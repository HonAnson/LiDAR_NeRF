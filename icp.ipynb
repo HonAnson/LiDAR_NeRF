{
 "cells": [
  {
   "cell_type": "code",
   "execution_count": 40,
   "metadata": {},
   "outputs": [],
   "source": [
    "import open3d as o3d\n",
    "import numpy as np\n",
    "import pandas as pd\n",
    "import math as m\n",
    "from einops import rearrange, repeat\n",
    "import os"
   ]
  },
  {
   "cell_type": "code",
   "execution_count": 41,
   "metadata": {},
   "outputs": [],
   "source": [
    "def loadData():\n",
    "    # Specify the directory path\n",
    "    dataset_path = 'datasets/testing1'\n",
    "\n",
    "    # List all files in the specified path, ignoring directories\n",
    "    files = [f for f in os.listdir(dataset_path) if os.path.isfile(os.path.join(dataset_path, f))]\n",
    "    files.sort()\n",
    "\n",
    "    # read the files\n",
    "    points_xyz = []\n",
    "    for s in files:\n",
    "        path = 'datasets/testing1/' + s\n",
    "        df = pd.read_csv(path)\n",
    "        a = df.to_numpy()\n",
    "        points_xyz.append(a[:,8:11])\n",
    "    return points_xyz\n",
    "\n",
    "# Assuming `point_clouds` is a list of your Open3D point cloud objects\n",
    "# You will need to define or provide this list for the function to work.\n",
    "def numpy2pcd(points):\n",
    "    pcd = o3d.geometry.PointCloud()\n",
    "    pcd.points = o3d.utility.Vector3dVector(points)\n",
    "    return pcd"
   ]
  },
  {
   "cell_type": "code",
   "execution_count": 42,
   "metadata": {},
   "outputs": [],
   "source": [
    "data = loadData()\n",
    "point_clouds = []\n",
    "for x in data:\n",
    "    point_clouds.append(numpy2pcd(x))"
   ]
  },
  {
   "cell_type": "code",
   "execution_count": 52,
   "metadata": {},
   "outputs": [],
   "source": [
    "threshold = 1.0  # Change according to your dataset scale and noise\n",
    "trans_init = np.eye(4)  # Initial transformation can be the identity matrix\n",
    "transformations = []\n",
    "for i in range(len(point_clouds)):\n",
    "    source_pcd = point_clouds[i]\n",
    "    target_pcd = point_clouds[0]\n",
    "    reg_p2p = o3d.pipelines.registration.registration_icp(\n",
    "        source_pcd, target_pcd, threshold, trans_init,\n",
    "        o3d.pipelines.registration.TransformationEstimationPointToPoint())\n",
    "    transformations.append(reg_p2p.transformation)"
   ]
  },
  {
   "cell_type": "code",
   "execution_count": 56,
   "metadata": {},
   "outputs": [
    {
     "data": {
      "text/plain": [
       "array([ 1.47570430e-01, -1.88496243e-02, -3.88675149e-04,  1.00000000e+00])"
      ]
     },
     "execution_count": 56,
     "metadata": {},
     "output_type": "execute_result"
    }
   ],
   "source": [
    "transformations[1][:,3]"
   ]
  },
  {
   "cell_type": "code",
   "execution_count": 91,
   "metadata": {},
   "outputs": [
    {
     "data": {
      "text/plain": [
       "4"
      ]
     },
     "execution_count": 91,
     "metadata": {},
     "output_type": "execute_result"
    }
   ],
   "source": [
    "str = \"ABABA\"\n",
    "\n",
    "def reduce(s):\n",
    "    count = 1\n",
    "    if len(s) < 3:\n",
    "        return 0\n",
    "    for i in range(1, len(s)-1):\n",
    "        if s[i-1:i+2] == \"ABA\":\n",
    "            s = s[0:i-1] + \"A\" + s[i+1:]\n",
    "            count += reduce(s)\n",
    "        if s[i-1:i+2] == \"BAB\":\n",
    "            s = s[0:i-1] + \"B\" + s[i+1:]\n",
    "            count += reduce(s)\n",
    "\n",
    "    return count\n",
    "            \n",
    "\n",
    "\n",
    "reduce(str)"
   ]
  }
 ],
 "metadata": {
  "kernelspec": {
   "display_name": "lidar_nerf",
   "language": "python",
   "name": "python3"
  },
  "language_info": {
   "codemirror_mode": {
    "name": "ipython",
    "version": 3
   },
   "file_extension": ".py",
   "mimetype": "text/x-python",
   "name": "python",
   "nbconvert_exporter": "python",
   "pygments_lexer": "ipython3",
   "version": "3.10.14"
  }
 },
 "nbformat": 4,
 "nbformat_minor": 2
}
