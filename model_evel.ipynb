{
 "cells": [
  {
   "cell_type": "code",
   "execution_count": 2,
   "metadata": {},
   "outputs": [
    {
     "name": "stdout",
     "output_type": "stream",
     "text": [
      "Jupyter environment detected. Enabling Open3D WebVisualizer.\n",
      "[Open3D INFO] WebRTC GUI backend enabled.\n",
      "[Open3D INFO] WebRTCWindowSystem: HTTP handshake server disabled.\n"
     ]
    }
   ],
   "source": [
    "import torch\n",
    "import numpy as np\n",
    "import matplotlib.pyplot as plt\n",
    "from einops import rearrange, repeat\n",
    "import rosbags\n",
    "import json\n",
    "import open3d as o3d\n",
    "import pandas as pd\n",
    "import os\n",
    "import copy\n",
    "from utility import listFiles\n",
    "from scipy.spatial.transform import Rotation as R\n",
    "from numpy import cos, sin\n",
    "import torch.nn as nn\n",
    "from train import LiDAR_NeRF"
   ]
  },
  {
   "cell_type": "code",
   "execution_count": 3,
   "metadata": {},
   "outputs": [],
   "source": [
    "### Specifically control the data used for training:\n",
    "# load data\n",
    "data_path = r'datasets/training/round_plant2.npy'\n",
    "with open(data_path, 'rb') as file:\n",
    "    training_data_np = np.load(file)\n",
    "\n",
    "batch = training_data_np[5060000,:]\n",
    "batch = rearrange(batch, 'a -> 1 a')"
   ]
  },
  {
   "cell_type": "code",
   "execution_count": 4,
   "metadata": {},
   "outputs": [],
   "source": [
    "ground_truth_distance = batch[:,0]\n",
    "angles = batch[:,1:3]\n",
    "origins = batch[:,3:6]\n",
    "elev = angles[:,0]\n",
    "pan = angles[:,1]\n",
    "x_tilde, y_tilde, z_tilde = cos(elev)*cos(pan), cos(elev)*sin(pan), sin(elev)      \n",
    "x_tilde_tensor = torch.tensor(x_tilde)\n",
    "y_tilde_tensor = torch.tensor(y_tilde)\n",
    "z_tilde_tensor = torch.tensor(z_tilde)\n",
    "unit_vectors = torch.vstack([x_tilde_tensor, y_tilde_tensor, z_tilde_tensor])"
   ]
  },
  {
   "cell_type": "code",
   "execution_count": 5,
   "metadata": {},
   "outputs": [],
   "source": [
    "def getSpacing(num_points, num_bins):\n",
    "    \"\"\"return a [num_points*num_bins, 1] pytorch tensor\n",
    "    \n",
    "    \"\"\"\n",
    "    # TODO: add hyperparameter for tuning \"slope\" of inverse sigmoid function\n",
    "    # create a list of magnitudes with even spacing from 0 to 1\n",
    "    t = torch.linspace(0,1, num_bins).expand(num_points, num_bins)  # [batch_size, num_bins//2]\n",
    "    \n",
    "    # preterb the spacing\n",
    "    mid = (t[:, :-1] + t[:, 1:]) / 2.\n",
    "    lower = torch.cat((t[:, :1], mid), -1)\n",
    "    upper = torch.cat((mid, t[:, -1:]), -1)\n",
    "    u = torch.rand(t.shape)\n",
    "    t = lower + (upper - lower) * u  # [batch_size, nb_bins//2]\n",
    "    # hard code start and end value of spacing to avoid infinity\n",
    "    t[:,0] = 5e-4\n",
    "    t[:,-1] = 0.995\n",
    "    # apply inverse sigmoid function to even spacing\n",
    "    t = rearrange(t, 'a b -> (a b) 1')  # [num_bins*batch_size, 1] \n",
    "    # t = torch.log(t / ((1 - t) + 1e-8))  \n",
    "    return t  \n",
    "\n",
    "def getSamplesEvel(centres, angles, r, num_bins = 100):\n",
    "    num_points = r.shape[0]\n",
    "    elev = angles[:,0]\n",
    "    pan = angles[:,1]\n",
    "    x_tilde, y_tilde, z_tilde = cos(elev)*cos(pan), cos(elev)*sin(pan), sin(elev)      \n",
    "    unit_vectors = torch.vstack([x_tilde, y_tilde, z_tilde])\n",
    "\n",
    "    # process vectors: [3, num_points] -> [num_points*num_bins, 3]\n",
    "    unit_vectors_repeated = repeat(unit_vectors, 'c n -> (n b) c', b = num_bins)\n",
    "    r_repeated = repeat(r, 'n -> (n b) 1', b = num_bins)\n",
    "    t = getSpacing(num_points, num_bins)\n",
    "    sample_magnitudes = t * r * 2\n",
    "    pos = unit_vectors_repeated*sample_magnitudes     # [num_bins*num_points, 3]\n",
    "\n",
    "\n",
    "\n",
    "    # tile the origin values\n",
    "    centres_tiled = torch.tensor(repeat(centres, 'n c -> (n b) c', b = num_bins)) # [num_bin*batch_size, 3]\n",
    "    pos = centres_tiled + pos\n",
    "\n",
    "    # tile the angle too\n",
    "    angles_tiled = torch.tensor(repeat(angles, 'n c -> (n b) c', b = num_bins))\n",
    "    return pos, angles_tiled, centres_tiled\n",
    "\n",
    "def getTargetValues(sample_positions, gt_distance, origins):\n",
    "    # calculate distance from sample_position\n",
    "    temp = (sample_positions - origins)**2\n",
    "    pos_distance = torch.sqrt(torch.sum(temp, dim=1, keepdim=True))\n",
    "    # print(pos_distance - gt_distance)\n",
    "    print(gt_distance)\n",
    "    \n",
    "    # find the \"projected\" value\n",
    "    sigmoid = nn.Sigmoid()\n",
    "    # values = sigmoid(-(pos_distance - gt_distance))\n",
    "    values = sigmoid(-(pos_distance - gt_distance))\n",
    "    return values\n"
   ]
  },
  {
   "cell_type": "code",
   "execution_count": 6,
   "metadata": {},
   "outputs": [
    {
     "name": "stderr",
     "output_type": "stream",
     "text": [
      "/tmp/ipykernel_89132/2962025371.py:40: UserWarning: To copy construct from a tensor, it is recommended to use sourceTensor.clone().detach() or sourceTensor.clone().detach().requires_grad_(True), rather than torch.tensor(sourceTensor).\n",
      "  centres_tiled = torch.tensor(repeat(centres, 'n c -> (n b) c', b = num_bins)) # [num_bin*batch_size, 3]\n",
      "/tmp/ipykernel_89132/2962025371.py:44: UserWarning: To copy construct from a tensor, it is recommended to use sourceTensor.clone().detach() or sourceTensor.clone().detach().requires_grad_(True), rather than torch.tensor(sourceTensor).\n",
      "  angles_tiled = torch.tensor(repeat(angles, 'n c -> (n b) c', b = num_bins))\n"
     ]
    }
   ],
   "source": [
    "sample_pos, sample_ang, sample_org = getSamplesEvel(torch.tensor(origins), torch.tensor(angles), torch.tensor(ground_truth_distance), num_bins=100)\n"
   ]
  },
  {
   "cell_type": "code",
   "execution_count": 7,
   "metadata": {},
   "outputs": [],
   "source": [
    "#### Load the model and try to \"visualize\" the model's datapoints\n",
    "model_evel = LiDAR_NeRF(hidden_dim=512, embedding_dim_dir=15, device = 'cpu')\n",
    "model_evel.load_state_dict(torch.load('local/models/version4_trial2.pth'))\n",
    "model_evel.eval(); # Set the model to inference mode"
   ]
  },
  {
   "cell_type": "code",
   "execution_count": 15,
   "metadata": {},
   "outputs": [
    {
     "name": "stdout",
     "output_type": "stream",
     "text": [
      "[3.92504032]\n"
     ]
    }
   ],
   "source": [
    "target_value = (getTargetValues(sample_pos, ground_truth_distance, origins)).to(dtype = torch.float32)\n",
    "sigmoid_ = nn.Sigmoid()\n",
    "rendered_value = sigmoid_(model_evel(sample_pos, sample_ang))"
   ]
  },
  {
   "cell_type": "code",
   "execution_count": 16,
   "metadata": {},
   "outputs": [
    {
     "data": {
      "text/plain": [
       "tensor(0.3943, grad_fn=<BinaryCrossEntropyBackward0>)"
      ]
     },
     "execution_count": 16,
     "metadata": {},
     "output_type": "execute_result"
    }
   ],
   "source": [
    "lossBCE = nn.BCELoss()\n",
    "loss = lossBCE(target_value, rendered_value)\n",
    "loss"
   ]
  },
  {
   "cell_type": "code",
   "execution_count": 17,
   "metadata": {},
   "outputs": [
    {
     "data": {
      "image/png": "[encoded data removed]",
      "text/plain": [
       "<Figure size 1000x600 with 1 Axes>"
      ]
     },
     "metadata": {},
     "output_type": "display_data"
    }
   ],
   "source": [
    "### plot to see:\n",
    "x_axis = np.arange(100)\n",
    "y_data = target_value.detach().numpy()\n",
    "predicted = rendered_value.detach().numpy()\n",
    "\n",
    "\n",
    "plt.figure(figsize=(10, 6))\n",
    "plt.plot(x_axis, y_data, 'ro', label='Original data')\n",
    "plt.plot(x_axis, predicted, 'b-', label='Fitted line')\n",
    "plt.legend()\n",
    "plt.show()\n"
   ]
  }
 ],
 "metadata": {
  "kernelspec": {
   "display_name": "lidar_nerf",
   "language": "python",
   "name": "python3"
  },
  "language_info": {
   "codemirror_mode": {
    "name": "ipython",
    "version": 3
   },
   "file_extension": ".py",
   "mimetype": "text/x-python",
   "name": "python",
   "nbconvert_exporter": "python",
   "pygments_lexer": "ipython3",
   "version": "3.10.14"
  }
 },
 "nbformat": 4,
 "nbformat_minor": 2
}
