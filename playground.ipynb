{
 "cells": [
  {
   "cell_type": "code",
   "execution_count": 1,
   "metadata": {},
   "outputs": [
    {
     "name": "stdout",
     "output_type": "stream",
     "text": [
      "Jupyter environment detected. Enabling Open3D WebVisualizer.\n",
      "[Open3D INFO] WebRTC GUI backend enabled.\n",
      "[Open3D INFO] WebRTCWindowSystem: HTTP handshake server disabled.\n"
     ]
    }
   ],
   "source": [
    "import torch\n",
    "import numpy as np\n",
    "import matplotlib.pyplot as plt\n",
    "import json\n",
    "import open3d as o3d\n",
    "import pandas as pd\n",
    "import os\n",
    "import copy\n",
    "from utility import listFiles, quickVizNumpy\n",
    "from scipy.spatial.transform import Rotation as R\n",
    "from numpy import cos, sin, sqrt, arctan2, array\n",
    "import torch.nn as nn\n",
    "from einops import rearrange\n",
    "### fucking around\n",
    "# from pretrain import loadDataFromRegisteredSlam, cart2sph, preProcess\n",
    "from train import getSpacing, getTargetCumulativeTransmittance, getTargetTerminationDistribution\n"
   ]
  },
  {
   "cell_type": "code",
   "execution_count": 62,
   "metadata": {},
   "outputs": [],
   "source": [
    "path = r'/home/ansonhon/anson/thesis/LiDAR_NeRF/datasets/training_cumulative/building.npy'\n",
    "data_cumulative = np.load(path)\n"
   ]
  },
  {
   "cell_type": "code",
   "execution_count": 63,
   "metadata": {},
   "outputs": [],
   "source": [
    "ray_origin = data_cumulative[:,0:3]\n",
    "ray_direction = data_cumulative[:,3:6]\n",
    "ray_distance = data_cumulative[:,6]\n",
    "ray_distance = rearrange(ray_distance, 'a -> a 1')"
   ]
  },
  {
   "cell_type": "code",
   "execution_count": 124,
   "metadata": {},
   "outputs": [
    {
     "name": "stdout",
     "output_type": "stream",
     "text": [
      "KL Divergence: 0.02077440917491913\n"
     ]
    }
   ],
   "source": [
    "import torch\n",
    "import torch.nn as nn\n",
    "\n",
    "# Define two probability distributions\n",
    "# Tensor p and q are 1D tensors representing probability distributions\n",
    "h_pred = torch.tensor([2.2523e-01 - 0.2, 4.5086e-02, 3.4559e-02, 2.3336e-02, 2.5034e-02, 1.0762e-02,\n",
    "        1.7722e-02, 6.8988e-03, 1.1023e-02, 2.7386e-03, 8.8364e-03, 1.0213e-02,\n",
    "        5.0265e-03, 1.0070e-02, 2.9175e-03, 9.0500e-03, 2.6145e-03, 8.9969e-03,\n",
    "        3.0865e-03, 2.5114e-03, 5.1010e-03, 7.0914e-03, 1.0493e-03, 4.9464e-03,\n",
    "        2.4952e-03, 4.2309e-03, 6.2509e-03, 1.5645e-04, 4.6447e-03, 3.5054e-03,\n",
    "        3.3354e-03, 1.7782e-03, 4.8893e-03, 2.5938e-03, 3.5188e-03, 1.6341e-03,\n",
    "        4.2589e-03, 2.6866e-03, 3.4943e-03, 2.7263e-03, 1.8788e-03, 1.6270e-03,\n",
    "        4.2281e-03, 1.0700e-03, 4.5657e-03, 6.1262e-04, 5.0273e-03, 3.8864e-04,\n",
    "        2.6450e-03, 3.9499e-03, 3.5786e-03 + 0.2, 1.3399e-03, 4.0289e-03, 1.5451e-04,\n",
    "        2.8197e-03, 4.9536e-03, 7.7232e-04, 4.3798e-03, 1.6989e-03, 3.3942e-03,\n",
    "        1.5410e-03, 2.9280e-03, 1.3904e-03, 2.6727e-03, 2.8807e-03, 3.5367e-03,\n",
    "        1.9866e-03, 1.5870e-03, 4.5568e-03, 2.2724e-03, 3.0935e-03, 6.1459e-04,\n",
    "        2.6093e-03, 5.1167e-03, 5.9625e-04, 4.6023e-03, 2.2147e-03, 1.0077e-03,\n",
    "        5.0860e-03, 1.3702e-03, 3.7740e-03, 3.7969e-03, 1.1750e-03, 5.4617e-03,\n",
    "        3.4450e-03, 1.9407e-03, 2.8735e-03, 4.1556e-03, 3.7211e-03, 7.1963e-03,\n",
    "        1.1907e-03, 7.2899e-03, 4.2661e-03, 5.4982e-03, 1.2092e-02, 7.8384e-03,\n",
    "        6.6398e-03, 1.7993e-02, 5.8207e-02, 2.0057e-01], dtype=torch.float32)\n",
    "h_target = torch.tensor([0.0000e+00, 0.0000e+00, 0.0000e+00, 0.0000e+00, 1.7765e-07, 3.9404e-07,\n",
    "        1.3416e-06, 1.5681e-06, 4.0253e-06, 2.0961e-06, 8.0597e-06, 1.6390e-05,\n",
    "        1.6193e-05, 4.5069e-05, 2.5389e-05, 9.6322e-05, 5.0715e-05, 2.0757e-04,\n",
    "        1.3084e-04, 1.3104e-04, 3.2445e-04, 6.3441e-04, 1.5424e-04, 7.9333e-04,\n",
    "        5.9087e-04, 1.1787e-03, 2.4103e-03, 9.4822e-05, 2.8822e-03, 3.0277e-03,\n",
    "        3.6797e-03, 2.5029e-03, 7.9002e-03, 5.8540e-03, 9.5507e-03, 5.6511e-03,\n",
    "        1.6448e-02, 1.3810e-02, 2.1409e-02, 2.0736e-02, 1.6739e-02, 1.6160e-02,\n",
    "        4.6222e-02, 1.3896e-02, 6.0538e-02, 9.5904e-03, 8.1612e-02, 7.1224e-03,\n",
    "        4.9119e-02, 7.4014e-02, 6.8407e-02, 2.4523e-02, 7.2440e-02, 2.4901e-03,\n",
    "        4.5382e-02, 7.5084e-02, 9.6141e-03, 5.2958e-02, 1.6175e-02, 2.9708e-02,\n",
    "        1.1291e-02, 1.9712e-02, 7.6220e-03, 1.3216e-02, 1.1624e-02, 1.1694e-02,\n",
    "        4.9087e-03, 3.3580e-03, 8.5700e-03, 2.9584e-03, 3.2854e-03, 4.9080e-04,\n",
    "        1.9602e-03, 3.1383e-03, 2.3999e-04, 1.7533e-03, 5.3250e-04, 1.9147e-04,\n",
    "        8.6806e-04, 1.3878e-04, 3.3336e-04, 2.2736e-04, 4.7121e-05, 1.9639e-04,\n",
    "        6.4731e-05, 2.6409e-05, 3.1606e-05, 3.1687e-05, 1.7296e-05, 2.1487e-05,\n",
    "        1.3050e-06, 6.8373e-06, 1.4835e-06, 1.0517e-06, 1.0226e-06, 9.8873e-08,\n",
    "        2.5554e-08, 2.3212e-08, 2.8600e-09, 0.0000e+00], dtype=torch.float32)\n",
    "\n",
    "# Ensure that p and q are normalized to represent probability distributions\n",
    "# print(h_target.sum())\n",
    "# h_pred = h_pred / h_pred.sum()\n",
    "# h_target = h_target / h_target.sum()\n",
    "# Define the KL Divergence loss function\n",
    "kl_div_loss = nn.KLDivLoss(reduction = 'batchmean')\n",
    "\n",
    "# Calculate the KL divergence\n",
    "kl_div = kl_div_loss(h_pred.log(), h_target)\n",
    "\n",
    "print(f\"KL Divergence: {kl_div.item()}\")\n"
   ]
  },
  {
   "cell_type": "code",
   "execution_count": 141,
   "metadata": {},
   "outputs": [
    {
     "data": {
      "text/plain": [
       "tensor(0.2931)"
      ]
     },
     "execution_count": 141,
     "metadata": {},
     "output_type": "execute_result"
    }
   ],
   "source": [
    "a = torch.tensor([0.03, 0.02, 0.9, 0.9, 0.9])\n",
    "b = torch.tensor([0, 0, 0.5, 1, 1])\n",
    "\n",
    "BCE_loss = nn.BCELoss()\n",
    "BCE_loss(a,b)\n"
   ]
  },
  {
   "cell_type": "code",
   "execution_count": 5,
   "metadata": {},
   "outputs": [
    {
     "data": {
      "image/png": "[encoded data removed]",
      "text/plain": [
       "<Figure size 640x480 with 1 Axes>"
      ]
     },
     "metadata": {},
     "output_type": "display_data"
    }
   ],
   "source": [
    "x = np.array([8.8902e-06, 2.8474e-04, 3.8748e-04, 7.5172e-04, 1.1764e-03, 9.6927e-04,\n",
    "        9.2535e-04, 1.5716e-03, 2.1750e-03, 3.8978e-03, 4.6829e-03, 3.3142e-03,\n",
    "        3.2824e-03, 4.7209e-03, 4.1569e-03, 6.8757e-03, 8.3965e-03, 1.2431e-02,\n",
    "        1.4030e-02, 1.9812e-02, 2.4375e-02, 2.6443e-02, 3.2973e-02, 5.3979e-02,\n",
    "        8.6338e-02, 8.4676e-02, 9.1290e-02, 1.1661e-01, 1.2201e-01, 1.6204e-01,\n",
    "        1.7386e-01, 1.8655e-01, 1.8588e-01, 3.2874e-01, 3.0556e-01, 4.7601e-01,\n",
    "        6.0428e-01, 8.3554e-01, 8.2924e-01, 1.1350e+00, 1.5235e+00, 2.1132e+00,\n",
    "        1.9103e+00, 2.2477e+00, 2.5525e+00, 3.5687e+00, 3.4557e+00, 4.7966e+00,\n",
    "        6.0020e+00, 6.4402e+00, 7.5337e+00, 7.2278e+00, 7.4552e+00, 7.4410e+00,\n",
    "        7.2898e+00, 6.8797e+00, 6.7645e+00, 6.5734e+00, 6.2402e+00, 6.0703e+00,\n",
    "        5.9752e+00, 5.2224e+00, 4.5954e+00, 4.0450e+00, 3.0009e+00, 2.9220e+00,\n",
    "        4.1065e+00, 5.2344e+00, 5.4628e+00, 4.4201e+00, 4.6304e+00, 3.5435e+00,\n",
    "        4.5585e+00, 4.8955e+00, 1.4391e+00, 1.1312e+00, 2.1219e-01, 2.9397e-01,\n",
    "        3.7897e-02, 3.1527e-02, 1.5384e-02, 7.8215e-03, 1.2932e-02, 4.8686e-03,\n",
    "        4.9939e-03, 3.0697e-03, 3.1148e-03, 1.5713e-03, 9.7609e-04, 9.3829e-04,\n",
    "        8.3833e-04, 8.8942e-04, 2.6528e-04, 1.4031e-04, 1.4591e-04, 1.3087e-04,\n",
    "        4.0819e-04, 1.3437e-04, 3.1439e-05, 1.9769e-06])\n",
    "\n",
    "plt.plot(x)\n",
    "plt.show()"
   ]
  },
  {
   "cell_type": "code",
   "execution_count": 2,
   "metadata": {},
   "outputs": [
    {
     "data": {
      "text/plain": [
       "True"
      ]
     },
     "execution_count": 2,
     "metadata": {},
     "output_type": "execute_result"
    }
   ],
   "source": [
    "torch.cuda.is_available()"
   ]
  }
 ],
 "metadata": {
  "kernelspec": {
   "display_name": "lidar_nerf",
   "language": "python",
   "name": "python3"
  },
  "language_info": {
   "codemirror_mode": {
    "name": "ipython",
    "version": 3
   },
   "file_extension": ".py",
   "mimetype": "text/x-python",
   "name": "python",
   "nbconvert_exporter": "python",
   "pygments_lexer": "ipython3",
   "version": "3.10.14"
  }
 },
 "nbformat": 4,
 "nbformat_minor": 2
}
