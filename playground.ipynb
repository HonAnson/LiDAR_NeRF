{
 "cells": [
  {
   "cell_type": "code",
   "execution_count": 2,
   "metadata": {},
   "outputs": [
    {
     "name": "stdout",
     "output_type": "stream",
     "text": [
      "Jupyter environment detected. Enabling Open3D WebVisualizer.\n",
      "[Open3D INFO] WebRTC GUI backend enabled.\n",
      "[Open3D INFO] WebRTCWindowSystem: HTTP handshake server disabled.\n"
     ]
    }
   ],
   "source": [
    "import torch\n",
    "import numpy as np\n",
    "# from einops import rearrange, repeat\n",
    "# import rosbags\n",
    "import matplotlib.pyplot as plt\n",
    "import json\n",
    "import open3d as o3d\n",
    "import pandas as pd\n",
    "import os\n",
    "import copy\n",
    "from utility import listFiles, quickVizNumpy\n",
    "from scipy.spatial.transform import Rotation as R\n",
    "from numpy import cos, sin, sqrt, arctan2, array\n",
    "import torch.nn as nn\n",
    "from einops import rearrange\n",
    "### fucking around\n",
    "# from pretrain import loadDataFromRegisteredSlam, cart2sph, preProcess\n",
    "from train import getSpacing, getTargetCumulativeTransmittance, getTargetTerminationDistribution\n"
   ]
  },
  {
   "cell_type": "code",
   "execution_count": 21,
   "metadata": {},
   "outputs": [],
   "source": [
    "t, delta = getSpacing(2, 1000)\n",
    "T = getTargetCumulativeTransmittance(t, variance=0.1)\n",
    "h = getTargetTerminationDistribution(T, delta, variance=0.1)"
   ]
  },
  {
   "cell_type": "code",
   "execution_count": 34,
   "metadata": {},
   "outputs": [
    {
     "data": {
      "text/plain": [
       "tensor(0.0990)"
      ]
     },
     "execution_count": 34,
     "metadata": {},
     "output_type": "execute_result"
    }
   ],
   "source": [
    "T[0,-1] = 0\n",
    "sum((T[0,:] * (1 - T[0,:]))*delta[0,:])\n",
    "# plt.plot(x, k*(1-k))\n",
    "\n",
    "# # Step 3: Customize the plot (optional)\n",
    "# plt.title(\"Plot of NumPy Array\")\n",
    "# plt.xlabel(\"x-axis\")\n",
    "# plt.ylabel(\"y-axis\")\n",
    "\n",
    "# # Step 4: Show the plot\n",
    "# plt.show()"
   ]
  },
  {
   "cell_type": "code",
   "execution_count": 4,
   "metadata": {},
   "outputs": [
    {
     "name": "stdout",
     "output_type": "stream",
     "text": [
      "Preparing data ... (950/971)"
     ]
    }
   ],
   "source": [
    "# name = r'building'\n",
    "# path = r'datasets/registered/' + name + r'.json'\n",
    "# data = loadDataFromRegisteredSlam(path)\n",
    "# training_data = preProcess(data)\n",
    "# np.random.shuffle(training_data)"
   ]
  },
  {
   "cell_type": "code",
   "execution_count": 79,
   "metadata": {},
   "outputs": [
    {
     "name": "stdout",
     "output_type": "stream",
     "text": [
      "1.0671611492045856\n"
     ]
    }
   ],
   "source": [
    "def sigmoid(x):\n",
    "    return 1 / (1 + np.exp(-x))\n",
    "\n",
    "\n",
    "\n",
    "t_np = np.array(t[0,:])\n",
    "d = np.hstack((t_np[1:] - t_np[:-1], 3.5 ))\n",
    "\n",
    "b = sigmoid(t_np)\n",
    "c = (b*(1-b)) * d\n",
    "print(sum(c))\n",
    "\n",
    "\n"
   ]
  }
 ],
 "metadata": {
  "kernelspec": {
   "display_name": "lidar_nerf",
   "language": "python",
   "name": "python3"
  },
  "language_info": {
   "codemirror_mode": {
    "name": "ipython",
    "version": 3
   },
   "file_extension": ".py",
   "mimetype": "text/x-python",
   "name": "python",
   "nbconvert_exporter": "python",
   "pygments_lexer": "ipython3",
   "version": "3.10.14"
  }
 },
 "nbformat": 4,
 "nbformat_minor": 2
}
