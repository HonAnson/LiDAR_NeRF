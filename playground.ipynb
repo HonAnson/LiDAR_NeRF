{
 "cells": [
  {
   "cell_type": "code",
   "execution_count": 1,
   "metadata": {},
   "outputs": [],
   "source": [
    "import torch"
   ]
  },
  {
   "cell_type": "code",
   "execution_count": null,
   "metadata": {},
   "outputs": [],
   "source": [
    "def upSampling(origins, angles, ground_truth_distance, num_roll):\n",
    "\n",
    "    # check if angle between pairs are small \n",
    "    diff = torch.abs(angles - torch.roll(angles, 1,0))\n",
    "    temp = diff < 0.003 #0.003radient approxximately 0.05 degree\n",
    "    mask_small_ang = temp.all(dim=1)\n",
    "\n",
    "    # for rays with small angle between, we can sample points close to origin, but with direction on other ray\n",
    "    \n",
    "    # check if origin between pairs are small\n",
    "    diff2 = torch.abs(origins - torch.roll(origins,1,0))\n",
    "    temp = diff2 < 0.5\n",
    "    mask_small_org = temp.all(dim=1)\n",
    "    \n",
    "    # now find if the target location is close\n",
    "    dir = sph2cart(angles)\n",
    "    pos = dir * ground_truth_distance\n",
    "    diff3 = torch.abs(pos - torch.roll(pos, 1, 0))\n",
    "    temp = diff3 < 0.5\n",
    "    mask_small_dis = temp.all(dim=1)\n",
    "    \n",
    "    # create a list of magnitudes with even spacing from 0 to 1\n",
    "    t = torch.linspace(0,1, 10).expand(dir_x.shape[0], 10)  # [batch_size, num_bins]\n",
    "    \n",
    "    # preterb the spacing\n",
    "    mid = (t[:, :-1] + t[:, 1:]) / 2.\n",
    "    lower = torch.cat((t[:, :1], mid), -1)\n",
    "    upper = torch.cat((mid, t[:, -1:]), -1)\n",
    "    u = torch.rand(t.shape, device = device)\n",
    "    t = lower + (upper - lower) * u  # [batch_size, nb_bins]\n",
    "    t = rearrange(t, 'a b -> b a')  # [num_bins, batch_size]  take transpose so that multiplication can broadcast\n",
    "\n",
    "\n",
    "\n",
    "\n",
    "\n",
    "    \n",
    "\n",
    "    return sample_position, sample_directions, sample_gt_distance"
   ]
  }
 ],
 "metadata": {
  "kernelspec": {
   "display_name": "lidar_nerf",
   "language": "python",
   "name": "python3"
  },
  "language_info": {
   "codemirror_mode": {
    "name": "ipython",
    "version": 3
   },
   "file_extension": ".py",
   "mimetype": "text/x-python",
   "name": "python",
   "nbconvert_exporter": "python",
   "pygments_lexer": "ipython3",
   "version": "3.10.14"
  }
 },
 "nbformat": 4,
 "nbformat_minor": 2
}
