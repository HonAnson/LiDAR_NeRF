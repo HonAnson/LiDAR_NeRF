{
 "cells": [
  {
   "cell_type": "code",
   "execution_count": 77,
   "metadata": {},
   "outputs": [],
   "source": [
    "import torch\n",
    "import numpy as np\n",
    "import matplotlib.pyplot as plt\n",
    "from einops import rearrange\n",
    "import rosbags\n",
    "import json\n",
    "import open3d as o3d\n",
    "import pandas as pd\n",
    "import os\n"
   ]
  },
  {
   "cell_type": "code",
   "execution_count": 3,
   "metadata": {},
   "outputs": [
    {
     "name": "stdout",
     "output_type": "stream",
     "text": [
      "Data loaded, number of frames = 100\n"
     ]
    }
   ],
   "source": [
    "file_path = 'datasets/json/box_plant1/box_plant1_frame300_400.json'\n",
    "# Open and read the JSON file\n",
    "with open(file_path, 'r') as file:\n",
    "    data = json.load(file)\n",
    "\n",
    "# Now 'data' is a dictionary\n",
    "num_key = len(data.keys())\n",
    "if num_key > 0:\n",
    "    print(f\"Data loaded, number of frames = {num_key}\")"
   ]
  },
  {
   "cell_type": "code",
   "execution_count": 4,
   "metadata": {},
   "outputs": [],
   "source": [
    "frame = 350\n",
    "points = np.array(data[str(frame)])"
   ]
  },
  {
   "cell_type": "code",
   "execution_count": 42,
   "metadata": {},
   "outputs": [],
   "source": [
    "# Convert numpy array to open3d point cloud\n",
    "def quickVisualize(points):\n",
    "    pcd = o3d.geometry.PointCloud()\n",
    "    pcd.points = o3d.utility.Vector3dVector(points)\n",
    "\n",
    "    # Visualize the point cloud\n",
    "    o3d.visualization.draw_geometries([pcd])\n",
    "    return"
   ]
  },
  {
   "cell_type": "code",
   "execution_count": 81,
   "metadata": {},
   "outputs": [],
   "source": [
    "def loadData(path):\n",
    "    # List all files in the specified path, ignoring directories\n",
    "    df = pd.read_csv(path)\n",
    "    points_xyz = df.to_numpy()\n",
    "    return points_xyz[:,8:11]"
   ]
  },
  {
   "cell_type": "code",
   "execution_count": 70,
   "metadata": {},
   "outputs": [],
   "source": [
    "from preprocess import listFiles\n",
    "### for handling entier point cloud\n",
    "def shortPassFilter(points, threshold = 10):\n",
    "    \"\"\" Filter points that are further than a distance away\"\"\"\n",
    "    distance = (points[:,0]**2 + points[:,1]**2 + points[:,2]**2)**0.5\n",
    "    mask = distance < threshold\n",
    "    return points[mask]\n",
    "\n",
    "# prepare path\n",
    "directory = r'datasets/json/box_plant1/'\n",
    "files = listFiles(directory)\n",
    "files.sort()\n",
    "\n",
    "# prepare frame 0 as reference\n",
    "path = directory + files[0]\n",
    "with open(path, 'r') as file:\n",
    "    data = json.load(file)\n",
    "pts_frame_0 = np.array(data[str(0)])\n",
    "pts_frame_1 = np.array(data[str(20)])\n",
    "pts_frame_0 = shortPassFilter(pts_frame_0, 7)\n",
    "pts_frame_1 = shortPassFilter(pts_frame_1, 7)\n"
   ]
  },
  {
   "cell_type": "code",
   "execution_count": 90,
   "metadata": {},
   "outputs": [],
   "source": [
    "### For handling manual point clouds\n",
    "path1 = r'datasets/box_plant1_manual_frame0.csv'\n",
    "path2 = r'datasets/box_plant1_manual_frame60.csv'\n",
    "pts_frame_0 = loadData(path1)\n",
    "pts_frame_60 = loadData(path2)"
   ]
  },
  {
   "cell_type": "code",
   "execution_count": 91,
   "metadata": {},
   "outputs": [],
   "source": [
    "quickVisualize(pts_frame_0)"
   ]
  },
  {
   "cell_type": "code",
   "execution_count": 93,
   "metadata": {},
   "outputs": [
    {
     "name": "stdout",
     "output_type": "stream",
     "text": [
      "Initial alignment\n",
      "RegistrationResult with fitness=1.369327e-01, inlier_rmse=6.199265e-02, and correspondence_set size of 175\n",
      "Access transformation to get result.\n",
      "Apply point-to-plane ICP\n",
      "Transformation is:\n",
      "[[ 0.74325888 -0.64520892  0.17683803  0.81929044]\n",
      " [ 0.66841548  0.70510816 -0.23673451 -3.51065646]\n",
      " [ 0.02805328  0.2941563   0.95534553  0.1334603 ]\n",
      " [ 0.          0.          0.          1.        ]]\n"
     ]
    }
   ],
   "source": [
    "# getTransformations()\n",
    "\n",
    "\n",
    "# Create Open3D PointCloud objects\n",
    "pcd1 = o3d.geometry.PointCloud()\n",
    "pcd1.points = o3d.utility.Vector3dVector(pts_frame_0)\n",
    "\n",
    "pcd2 = o3d.geometry.PointCloud()\n",
    "pcd2.points = o3d.utility.Vector3dVector(pts_frame_60)\n",
    "\n",
    "# Preprocess point clouds: Downsample for faster ICP\n",
    "voxel_size = 0.05\n",
    "pcd1_down = pcd1.voxel_down_sample(voxel_size)\n",
    "pcd2_down = pcd2.voxel_down_sample(voxel_size)\n",
    "\n",
    "# Estimate normals for ICP\n",
    "radius_normal = voxel_size * 2\n",
    "pcd1_down.estimate_normals(o3d.geometry.KDTreeSearchParamHybrid(radius=radius_normal, max_nn=50))\n",
    "pcd2_down.estimate_normals(o3d.geometry.KDTreeSearchParamHybrid(radius=radius_normal, max_nn=50))\n",
    "\n",
    "# Apply ICP registration\n",
    "threshold = 0.1  # Maximum correspondence points-pair distance\n",
    "trans_init = np.identity(4)  # Initial transformation\n",
    "\n",
    "print(\"Initial alignment\")\n",
    "evaluation = o3d.pipelines.registration.evaluate_registration(pcd1_down, pcd2_down, threshold, trans_init)\n",
    "print(evaluation)\n",
    "\n",
    "# Perform point-to-plane ICP\n",
    "print(\"Apply point-to-plane ICP\")\n",
    "reg_p2l = o3d.pipelines.registration.registration_icp(\n",
    "    pcd1_down, pcd2_down, threshold, trans_init,\n",
    "    o3d.pipelines.registration.TransformationEstimationPointToPlane())\n",
    "\n",
    "print(\"Transformation is:\")\n",
    "print(reg_p2l.transformation)\n",
    "\n",
    "# Apply the transformation to the original point cloud\n",
    "pcd1.transform(reg_p2l.transformation)\n",
    "\n",
    "# Visualize the aligned point clouds\n",
    "o3d.visualization.draw_geometries([pcd1, pcd2])\n",
    "# o3d.visualization.draw_geometries([pcd1])"
   ]
  }
 ],
 "metadata": {
  "kernelspec": {
   "display_name": "lidar_nerf",
   "language": "python",
   "name": "python3"
  },
  "language_info": {
   "codemirror_mode": {
    "name": "ipython",
    "version": 3
   },
   "file_extension": ".py",
   "mimetype": "text/x-python",
   "name": "python",
   "nbconvert_exporter": "python",
   "pygments_lexer": "ipython3",
   "version": "3.10.14"
  }
 },
 "nbformat": 4,
 "nbformat_minor": 2
}
