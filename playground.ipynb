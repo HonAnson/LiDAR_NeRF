{
 "cells": [
  {
   "cell_type": "code",
   "execution_count": 48,
   "metadata": {},
   "outputs": [],
   "source": [
    "import torch\n",
    "import numpy as np\n",
    "import matplotlib.pyplot as plt\n",
    "import json\n",
    "import open3d as o3d\n",
    "import pandas as pd\n",
    "import os\n",
    "import copy\n",
    "from utility import listFiles, quickVizNumpy\n",
    "from scipy.spatial.transform import Rotation as R\n",
    "from numpy import cos, sin, sqrt, arctan2, array\n",
    "import torch.nn as nn\n",
    "from einops import rearrange, repeat\n",
    "### fucking around\n",
    "# from pretrain import loadDataFromRegisteredSlam, cart2sph, preProcess\n",
    "from train import getSpacing, getTargetCumulativeTransmittance, getTargetTerminationDistribution\n"
   ]
  },
  {
   "cell_type": "code",
   "execution_count": 75,
   "metadata": {},
   "outputs": [],
   "source": [
    "path = r'/home/ansonhon/anson/thesis/LiDAR_NeRF/datasets/training_rainbow/round_plant2.npy'\n",
    "x = np.load(path)\n"
   ]
  },
  {
   "cell_type": "code",
   "execution_count": 78,
   "metadata": {},
   "outputs": [],
   "source": [
    "quickVizNumpy(x[0:1000000,:])"
   ]
  },
  {
   "cell_type": "code",
   "execution_count": 65,
   "metadata": {},
   "outputs": [
    {
     "data": {
      "text/plain": [
       "(6932455, 9)"
      ]
     },
     "execution_count": 65,
     "metadata": {},
     "output_type": "execute_result"
    }
   ],
   "source": [
    "path = r'/home/ansonhon/anson/thesis/LiDAR_NeRF/datasets/training_euclidean_uncentered/round_plant2.npy'\n",
    "data = np.load(path)\n",
    "data.shape"
   ]
  },
  {
   "cell_type": "code",
   "execution_count": 66,
   "metadata": {},
   "outputs": [],
   "source": [
    "pos = data[:,6:9]\n",
    "org = data[:,0:3]\n",
    "dir = data[:,3:6]\n",
    "\n",
    "centroid = np.mean(pos, axis=0)\n",
    "centroid_tiled = repeat(centroid, 'b -> n b', n = pos.shape[0])"
   ]
  },
  {
   "cell_type": "code",
   "execution_count": 67,
   "metadata": {},
   "outputs": [],
   "source": [
    "new_pos = pos-centroid_tiled"
   ]
  },
  {
   "cell_type": "code",
   "execution_count": 68,
   "metadata": {},
   "outputs": [],
   "source": [
    "max_diff = np.max(new_pos, axis=0) - np.min(new_pos, axis=0)"
   ]
  },
  {
   "cell_type": "code",
   "execution_count": 85,
   "metadata": {},
   "outputs": [],
   "source": [
    "test = rearrange(max_diff, 'a -> a 1')"
   ]
  },
  {
   "cell_type": "code",
   "execution_count": 92,
   "metadata": {},
   "outputs": [
    {
     "name": "stdout",
     "output_type": "stream",
     "text": [
      "(1, 3)\n",
      "(3, 1)\n"
     ]
    }
   ],
   "source": [
    "a = test.T\n"
   ]
  },
  {
   "cell_type": "code",
   "execution_count": 71,
   "metadata": {},
   "outputs": [],
   "source": [
    "new_pos /= (0.9024175*0.5)\n"
   ]
  },
  {
   "cell_type": "code",
   "execution_count": 81,
   "metadata": {},
   "outputs": [
    {
     "data": {
      "text/plain": [
       "array([-1.03084655, -0.91945115, -0.45719922])"
      ]
     },
     "execution_count": 81,
     "metadata": {},
     "output_type": "execute_result"
    }
   ],
   "source": [
    "np.min(new_pos, axis=0)"
   ]
  },
  {
   "cell_type": "code",
   "execution_count": 74,
   "metadata": {},
   "outputs": [],
   "source": [
    "np.save('round_plant2.npy',new_pos)"
   ]
  },
  {
   "cell_type": "code",
   "execution_count": 100,
   "metadata": {},
   "outputs": [
    {
     "name": "stdout",
     "output_type": "stream",
     "text": [
      "[(1, 2, 3) (1, 2, 4) (1, 2, 5) (3, 4, 5) (3, 4, 7) (5, 6, 1) (5, 6, 2)]\n",
      "[(1, 2) (3, 4) (5, 6)]\n",
      "[[1 2 5]\n",
      " [3 4 7]\n",
      " [5 6 1]]\n"
     ]
    }
   ],
   "source": [
    "import numpy as np\n",
    "\n",
    "def filter_rows_with_min_third_column(data):\n",
    "    # Create a structured array to facilitate finding unique rows\n",
    "    dtype = [('first', data.dtype), ('second', data.dtype), ('third', data.dtype)]\n",
    "    structured_data = np.array(list(map(tuple, data)), dtype=dtype)\n",
    "\n",
    "    # Sort by first, second, and third columns to ensure the smallest third value comes first\n",
    "    structured_data.sort(order=['first', 'second', 'third'])\n",
    "    print(structured_data)\n",
    "\n",
    "    # Use np.unique to find unique pairs in the first and second columns\n",
    "    x, unique_indices = np.unique(structured_data[['first', 'second']], return_index=True)\n",
    "    print\n",
    "\n",
    "    # Return the filtered array, using the unique indices\n",
    "    return data[unique_indices]\n",
    "\n",
    "# Example usage\n",
    "example_data = np.array([\n",
    "    [1, 2, 5],\n",
    "    [1, 2, 3],\n",
    "    [1, 2, 4],\n",
    "    [3, 4, 7],\n",
    "    [3, 4, 5],\n",
    "    [5, 6, 1],\n",
    "    [5, 6, 2]\n",
    "])\n",
    "\n",
    "filtered_data = filter_rows_with_min_third_column(example_data)\n",
    "print(filtered_data)\n"
   ]
  },
  {
   "cell_type": "code",
   "execution_count": 111,
   "metadata": {},
   "outputs": [
    {
     "name": "stdout",
     "output_type": "stream",
     "text": [
      "[[1 2 3]\n",
      " [1 2 4]\n",
      " [1 2 5]\n",
      " [3 4 5]\n",
      " [3 4 7]\n",
      " [5 6 1]\n",
      " [5 6 2]]\n",
      "[[1 2 3]\n",
      " [3 4 5]\n",
      " [5 6 1]]\n"
     ]
    }
   ],
   "source": [
    "example_data = np.array([\n",
    "    [1, 2, 5],\n",
    "    [1, 2, 3],\n",
    "    [1, 2, 4],\n",
    "    [3, 4, 7],\n",
    "    [3, 4, 5],\n",
    "    [5, 6, 1],\n",
    "    [5, 6, 2]\n",
    "])\n",
    "\n",
    "example_data = example_data[example_data[:,2].argsort()]\n",
    "example_data = example_data[example_data[:,1].argsort()]\n",
    "example_data = example_data[example_data[:,0].argsort()]\n",
    "_ , unique_indicies = np.unique(example_data[:,0:2], axis=0, return_index = True)\n",
    "print(example_data)\n",
    "example_data = example_data[unique_indicies]\n",
    "print(example_data)\n",
    "\n"
   ]
  },
  {
   "cell_type": "code",
   "execution_count": 109,
   "metadata": {},
   "outputs": [
    {
     "data": {
      "text/plain": [
       "array([0, 3, 5])"
      ]
     },
     "execution_count": 109,
     "metadata": {},
     "output_type": "execute_result"
    }
   ],
   "source": [
    "unique_indicies"
   ]
  }
 ],
 "metadata": {
  "kernelspec": {
   "display_name": "lidar_nerf",
   "language": "python",
   "name": "python3"
  },
  "language_info": {
   "codemirror_mode": {
    "name": "ipython",
    "version": 3
   },
   "file_extension": ".py",
   "mimetype": "text/x-python",
   "name": "python",
   "nbconvert_exporter": "python",
   "pygments_lexer": "ipython3",
   "version": "3.10.14"
  }
 },
 "nbformat": 4,
 "nbformat_minor": 2
}
