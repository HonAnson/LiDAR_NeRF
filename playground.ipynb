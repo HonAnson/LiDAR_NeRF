{
 "cells": [
  {
   "cell_type": "code",
   "execution_count": 1,
   "metadata": {},
   "outputs": [
    {
     "name": "stdout",
     "output_type": "stream",
     "text": [
      "Jupyter environment detected. Enabling Open3D WebVisualizer.\n",
      "[Open3D INFO] WebRTC GUI backend enabled.\n",
      "[Open3D INFO] WebRTCWindowSystem: HTTP handshake server disabled.\n"
     ]
    }
   ],
   "source": [
    "import torch\n",
    "import numpy as np\n",
    "import matplotlib.pyplot as plt\n",
    "from einops import rearrange, repeat\n",
    "import rosbags\n",
    "import json\n",
    "import open3d as o3d\n",
    "import pandas as pd\n",
    "import os\n",
    "import copy\n",
    "from utility import listFiles\n",
    "from scipy.spatial.transform import Rotation as R\n",
    "from numpy import cos, sin\n",
    "import torch.nn as nn\n",
    "### fucking around\n",
    "from pretrain import loadDataFromRegisteredSlam, cart2sph, preProcess\n",
    "from train import getSamples, getUpSamples, getSpacing"
   ]
  },
  {
   "cell_type": "code",
   "execution_count": 50,
   "metadata": {},
   "outputs": [],
   "source": [
    "def getSpacing(num_points, num_bins):\n",
    "    \"\"\"return a [num_points*num_bins, 1] pytorch tensor\n",
    "    \n",
    "    \"\"\"\n",
    "    # TODO: add hyperparameter for tuning \"slope\" of inverse sigmoid function\n",
    "    # create a list of magnitudes with even spacing from 0 to 1\n",
    "    t = torch.linspace(0,1, num_bins).expand(num_points, num_bins)  # [batch_size, num_bins//2]\n",
    "    \n",
    "    # preterb the spacing\n",
    "    mid = (t[:, :-1] + t[:, 1:]) / 2.\n",
    "    lower = torch.cat((t[:, :1], mid), -1)\n",
    "    upper = torch.cat((mid, t[:, -1:]), -1)\n",
    "    u = torch.rand(t.shape)\n",
    "    t = lower + (upper - lower) * u  # [batch_size, nb_bins//2]\n",
    "    t[:,0] = 1e-4\n",
    "    t[:,-1] = 0.995\n",
    "    # apply inverse sigmoid function to even spacing\n",
    "    t = rearrange(t, 'a b -> (a b) 1')  # [num_bins, batch_size]  transpose for multiplication broadcast\n",
    "    t = torch.log(t / (torch.abs(1 - t)+ 1e-8))  \n",
    "    return t"
   ]
  },
  {
   "cell_type": "code",
   "execution_count": 58,
   "metadata": {},
   "outputs": [
    {
     "name": "stdout",
     "output_type": "stream",
     "text": [
      "torch.Size([10000, 100])\n",
      "tensor([[1.0000e-04, 6.1801e-03, 1.8660e-02,  ..., 9.7502e-01, 9.9039e-01,\n",
      "         9.9500e-01],\n",
      "        [1.0000e-04, 1.0230e-02, 1.5639e-02,  ..., 9.8180e-01, 9.8749e-01,\n",
      "         9.9500e-01],\n",
      "        [1.0000e-04, 1.4302e-02, 2.1242e-02,  ..., 9.8188e-01, 9.8897e-01,\n",
      "         9.9500e-01],\n",
      "        ...,\n",
      "        [1.0000e-04, 9.2310e-03, 1.5599e-02,  ..., 9.7831e-01, 9.9397e-01,\n",
      "         9.9500e-01],\n",
      "        [1.0000e-04, 1.5042e-02, 2.2134e-02,  ..., 9.8088e-01, 9.8666e-01,\n",
      "         9.9500e-01],\n",
      "        [1.0000e-04, 1.1250e-02, 2.4384e-02,  ..., 9.8266e-01, 9.9365e-01,\n",
      "         9.9500e-01]])\n"
     ]
    }
   ],
   "source": [
    "x = getSpacing(10000,100)\n",
    "# max(x)\n"
   ]
  },
  {
   "cell_type": "code",
   "execution_count": 4,
   "metadata": {},
   "outputs": [
    {
     "name": "stdout",
     "output_type": "stream",
     "text": [
      "Preparing data ... (1150/1187)"
     ]
    }
   ],
   "source": [
    "name = r'round_plant2'\n",
    "path = r'datasets/registered/' + name + r'.json'\n",
    "data = loadDataFromRegisteredSlam(path)\n",
    "training_data = preProcess(data)\n",
    "np.random.shuffle(training_data)"
   ]
  },
  {
   "cell_type": "code",
   "execution_count": 4,
   "metadata": {},
   "outputs": [],
   "source": [
    "num_points = 1024\n",
    "ground_truth_distance = training_data[:num_points,0]\n",
    "angles = training_data[:num_points,1:3]\n",
    "origins = training_data[:num_points,3:6]"
   ]
  },
  {
   "cell_type": "code",
   "execution_count": 6,
   "metadata": {},
   "outputs": [],
   "source": [
    "gt_dist_tensor = torch.tensor(ground_truth_distance)\n",
    "ang_tensor = torch.tensor(angles)\n",
    "origins_tensor = torch.tensor(origins)"
   ]
  },
  {
   "cell_type": "code",
   "execution_count": 9,
   "metadata": {},
   "outputs": [],
   "source": [
    "sample_pos, sample_ang, sample_org = getSamples(origins_tensor, ang_tensor, gt_dist_tensor, num_bins=100)\n",
    "upsample_pos, upsample_ang, upsample_gt_distance = getUpSamples(origins_tensor, ang_tensor, gt_dist_tensor, num_rolls=0)"
   ]
  },
  {
   "cell_type": "code",
   "execution_count": 11,
   "metadata": {},
   "outputs": [],
   "source": [
    "# tile distances\n",
    "gt_distance_tiled = torch.tensor(repeat(ground_truth_distance, 'b -> (b n) 1', n=100))\n",
    "\n",
    "# stack the upsampled position to sampled positions\n",
    "pos = (torch.vstack((sample_pos, upsample_pos)))\n",
    "ang = (torch.vstack((sample_ang, upsample_ang)))\n",
    "gt_dis = (torch.vstack((gt_distance_tiled,upsample_gt_distance)))\n",
    "org = (torch.vstack((sample_org, upsample_pos)))\n"
   ]
  },
  {
   "cell_type": "code",
   "execution_count": 15,
   "metadata": {},
   "outputs": [
    {
     "name": "stderr",
     "output_type": "stream",
     "text": [
      "/tmp/ipykernel_45895/3882400413.py:4: UserWarning: To copy construct from a tensor, it is recommended to use sourceTensor.clone().detach() or sourceTensor.clone().detach().requires_grad_(True), rather than torch.tensor(sourceTensor).\n",
      "  temp = torch.tensor((sample_positions - origins)**2)\n"
     ]
    }
   ],
   "source": [
    "actual_value_sigmoided = (getTargetValues(pos, gt_dis, org)).to(dtype = torch.float32)"
   ]
  },
  {
   "cell_type": "code",
   "execution_count": 17,
   "metadata": {},
   "outputs": [
    {
     "data": {
      "text/plain": [
       "tensor([0.9998])"
      ]
     },
     "execution_count": 17,
     "metadata": {},
     "output_type": "execute_result"
    }
   ],
   "source": [
    "max(actual_value_sigmoided)"
   ]
  },
  {
   "cell_type": "code",
   "execution_count": null,
   "metadata": {},
   "outputs": [],
   "source": []
  },
  {
   "cell_type": "code",
   "execution_count": 12,
   "metadata": {},
   "outputs": [],
   "source": [
    "# returns pytorch tensor of sigmoid of projected SDF\n",
    "def getTargetValues(sample_positions, gt_distance, origins, num_bins=100):\n",
    "    # calculate distance from sample_position\n",
    "    temp = torch.tensor((sample_positions - origins)**2)\n",
    "    pos_distance = torch.sqrt(torch.sum(temp, dim=1, keepdim=True))\n",
    "    \n",
    "    # find the \"projected\" value\n",
    "    sigmoid = nn.Sigmoid()\n",
    "    values = sigmoid(-(pos_distance - gt_distance))\n",
    "    return values"
   ]
  },
  {
   "cell_type": "code",
   "execution_count": 162,
   "metadata": {},
   "outputs": [],
   "source": [
    "# Convert the numpy array to an Open3D PointCloud object\n",
    "pcd = o3d.geometry.PointCloud()\n",
    "pcd.points = o3d.utility.Vector3dVector(sample_pos)\n",
    "\n",
    "# Visualize the point cloud\n",
    "o3d.visualization.draw_geometries([pcd])"
   ]
  }
 ],
 "metadata": {
  "kernelspec": {
   "display_name": "lidar_nerf",
   "language": "python",
   "name": "python3"
  },
  "language_info": {
   "codemirror_mode": {
    "name": "ipython",
    "version": 3
   },
   "file_extension": ".py",
   "mimetype": "text/x-python",
   "name": "python",
   "nbconvert_exporter": "python",
   "pygments_lexer": "ipython3",
   "version": "3.10.14"
  }
 },
 "nbformat": 4,
 "nbformat_minor": 2
}
