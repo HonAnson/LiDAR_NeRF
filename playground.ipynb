{
 "cells": [
  {
   "cell_type": "code",
   "execution_count": 14,
   "metadata": {},
   "outputs": [
    {
     "name": "stdout",
     "output_type": "stream",
     "text": [
      "Jupyter environment detected. Enabling Open3D WebVisualizer.\n",
      "[Open3D INFO] WebRTC GUI backend enabled.\n",
      "[Open3D INFO] WebRTCWindowSystem: HTTP handshake server disabled.\n"
     ]
    }
   ],
   "source": [
    "import torch\n",
    "import numpy as np\n",
    "import matplotlib.pyplot as plt\n",
    "from einops import rearrange\n",
    "import rosbags\n",
    "import json\n",
    "import open3d as o3d\n"
   ]
  },
  {
   "cell_type": "code",
   "execution_count": 12,
   "metadata": {},
   "outputs": [
    {
     "name": "stdout",
     "output_type": "stream",
     "text": [
      "Data loaded, number of keys = 47\n"
     ]
    }
   ],
   "source": [
    "file_path = 'datasets/testing.json'\n",
    "# Open and read the JSON file\n",
    "\n",
    "with open(file_path, 'r') as file:\n",
    "    data = json.load(file)\n",
    "\n",
    "# Now 'data' is a dictionary\n",
    "num_key = len(data.keys())\n",
    "if num_key > 0:\n",
    "    print(f\"Data loaded, number of keys = {num_key}\")"
   ]
  },
  {
   "cell_type": "code",
   "execution_count": 19,
   "metadata": {},
   "outputs": [],
   "source": [
    "frame = 40\n",
    "points = np.array(data[str(frame)])"
   ]
  },
  {
   "cell_type": "code",
   "execution_count": 22,
   "metadata": {},
   "outputs": [
    {
     "data": {
      "text/plain": [
       "[[1.0529999732971191, 0.8410000205039978, -0.20000000298023224],\n",
       " [0.9900000095367432, 0.7870000004768372, -0.16699999570846558],\n",
       " [1.0679999589920044, 0.847000002861023, -0.15800000727176666],\n",
       " [1.065999984741211, 0.8420000076293945, -0.13600000739097595],\n",
       " [1.406999945640564, 1.1100000143051147, -0.15199999511241913],\n",
       " [1.4420000314712524, 1.1369999647140503, -0.12700000405311584],\n",
       " [1.0540000200271606, 0.8460000157356262, -0.20000000298023224],\n",
       " [0.9990000128746033, 0.7979999780654907, -0.1679999977350235],\n",
       " [1.024999976158142, 0.8159999847412109, -0.15199999511241913],\n",
       " [1.0609999895095825, 0.8429999947547913, -0.13500000536441803]]"
      ]
     },
     "execution_count": 22,
     "metadata": {},
     "output_type": "execute_result"
    }
   ],
   "source": [
    "data[str(0)][0:10]"
   ]
  },
  {
   "cell_type": "code",
   "execution_count": 23,
   "metadata": {},
   "outputs": [
    {
     "data": {
      "text/plain": [
       "[[1.503999948501587, 0.3569999933242798, -0.2709999978542328],\n",
       " [1.7829999923706055, 0.42100000381469727, -0.2919999957084656],\n",
       " [0.0, 0.0, 0.0],\n",
       " [0.0, 0.0, 0.0],\n",
       " [0.0, 0.0, 0.0],\n",
       " [2.0460000038146973, 0.4740000069141388, -0.20200000703334808],\n",
       " [0.0, 0.0, 0.0],\n",
       " [0.0, 0.0, 0.0],\n",
       " [0.0, 0.0, 0.0],\n",
       " [1.0199999809265137, 0.23100000619888306, -0.13300000131130219]]"
      ]
     },
     "execution_count": 23,
     "metadata": {},
     "output_type": "execute_result"
    }
   ],
   "source": [
    "data[str(40)][0:10]"
   ]
  },
  {
   "cell_type": "code",
   "execution_count": 20,
   "metadata": {},
   "outputs": [],
   "source": [
    "# Convert numpy array to open3d point cloud\n",
    "pcd = o3d.geometry.PointCloud()\n",
    "pcd.points = o3d.utility.Vector3dVector(points)\n",
    "\n",
    "# Visualize the point cloud\n",
    "o3d.visualization.draw_geometries([pcd])"
   ]
  }
 ],
 "metadata": {
  "kernelspec": {
   "display_name": "lidar_nerf",
   "language": "python",
   "name": "python3"
  },
  "language_info": {
   "codemirror_mode": {
    "name": "ipython",
    "version": 3
   },
   "file_extension": ".py",
   "mimetype": "text/x-python",
   "name": "python",
   "nbconvert_exporter": "python",
   "pygments_lexer": "ipython3",
   "version": "3.10.14"
  }
 },
 "nbformat": 4,
 "nbformat_minor": 2
}
