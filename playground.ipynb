{
 "cells": [
  {
   "cell_type": "code",
   "execution_count": 1,
   "metadata": {},
   "outputs": [
    {
     "name": "stdout",
     "output_type": "stream",
     "text": [
      "Jupyter environment detected. Enabling Open3D WebVisualizer.\n",
      "[Open3D INFO] WebRTC GUI backend enabled.\n",
      "[Open3D INFO] WebRTCWindowSystem: HTTP handshake server disabled.\n"
     ]
    }
   ],
   "source": [
    "import torch\n",
    "import numpy as np\n",
    "import matplotlib.pyplot as plt\n",
    "from einops import rearrange\n",
    "import rosbags\n",
    "import json\n",
    "import open3d as o3d\n",
    "import pandas as pd\n",
    "import os\n",
    "import copy\n",
    "from preprocess import listFiles\n",
    "from register import loadData\n",
    "from scipy.spatial.transform import Rotation as R"
   ]
  },
  {
   "cell_type": "code",
   "execution_count": 46,
   "metadata": {},
   "outputs": [],
   "source": [
    "def quat2RotationMatrix(q):\n",
    "    \"\"\"\n",
    "    Convert a quaternion into a rotation matrix.\n",
    "    \n",
    "    Args:\n",
    "    q (numpy.ndarray): A 4-element array representing the quaternion (w, x, y, z)\n",
    "    \n",
    "    Returns:\n",
    "    numpy.ndarray: A 3x3 rotation matrix\n",
    "    \"\"\"\n",
    "    w, x, y, z = q\n",
    "\n",
    "    # Compute the rotation matrix elements\n",
    "    R = np.array([\n",
    "        [1 - 2*y*y - 2*z*z, 2*x*y - 2*z*w, 2*x*z + 2*y*w],\n",
    "        [2*x*y + 2*z*w, 1 - 2*x*x - 2*z*z, 2*y*z - 2*x*w],\n",
    "        [2*x*z - 2*y*w, 2*y*z + 2*x*w, 1 - 2*x*x - 2*y*y]\n",
    "    ])\n",
    "    return R\n",
    "\n",
    "\n",
    "def transformPointCloud(point_cloud, translation, quaternion):\n",
    "    \"\"\"\n",
    "    Apply translation and rotation to a point cloud.\n",
    "    \n",
    "    Args:\n",
    "        point_cloud (np.ndarray): An n x 3 array representing the point cloud.\n",
    "        translation (np.ndarray): A 1 x 3 array representing the translation vector.\n",
    "        quaternion (np.ndarray): A 1 x 4 array representing the quaternion for rotation.\n",
    "    \n",
    "    Returns:\n",
    "        np.ndarray: The transformed point cloud.\n",
    "    \"\"\"\n",
    "    # Validate inputs\n",
    "    assert point_cloud.shape[1] == 3, \"Point cloud must be an n x 3 array.\"\n",
    "    assert translation.shape == (3,), \"Translation must be a 1 x 3 array.\"\n",
    "    assert quaternion.shape == (4,), \"Quaternion must be a 1 x 4 array.\"\n",
    "\n",
    "    R = quat2RotationMatrix(quaternion)\n",
    "    temp = R@(np.transpose(point_cloud))\n",
    "    temp2 = np.transpose(temp) + translation\n",
    "\n",
    "    return temp2\n",
    "\n",
    "\n",
    "def quickVizReg(source, target):\n",
    "    pcd1 = o3d.geometry.PointCloud()\n",
    "    pcd2 = o3d.geometry.PointCloud()\n",
    "    pcd1.points = o3d.utility.Vector3dVector(source)\n",
    "    pcd2.points = o3d.utility.Vector3dVector(target)\n",
    "    pcd1.paint_uniform_color([1, 0, 0])\n",
    "    pcd2.paint_uniform_color([0, 0.651, 0.929])\n",
    "    o3d.visualization.draw_geometries([pcd1,pcd2])\n",
    "\n",
    "def quickVisualize(points):\n",
    "    \"\"\" Visualize pointcloud from numpy array\"\"\"\n",
    "    pcd = o3d.geometry.PointCloud()\n",
    "    pcd.points = o3d.utility.Vector3dVector(points)\n",
    "    o3d.visualization.draw_geometries([pcd])\n",
    "    return"
   ]
  },
  {
   "cell_type": "code",
   "execution_count": 69,
   "metadata": {},
   "outputs": [],
   "source": [
    "path = r'datasets/pose/box_plant2_pose.json'\n",
    "with open(path,'r') as file:\n",
    "    pose = json.load(file)\n",
    "\n",
    "path = r'datasets/json/box_plant2/box_plant2_frame0_100.json'\n",
    "with open(path,'r') as file:\n",
    "    points1 = json.load(file)\n",
    "\n",
    "path = r'datasets/json/box_plant2/box_plant2_frame600_700.json'\n",
    "with open(path,'r') as file:\n",
    "    points2 = json.load(file)\n",
    "\n",
    "pose_keys = list(pose.keys())\n",
    "point1_keys = list(points1.keys())\n",
    "point2_keys = list(points2.keys())"
   ]
  },
  {
   "cell_type": "code",
   "execution_count": 79,
   "metadata": {},
   "outputs": [],
   "source": [
    "frame1_idx = 5\n",
    "frame2_idx = 690\n",
    "offset = -5\n",
    "point1 = np.array(points1[point1_keys[frame1_idx%100]])\n",
    "point2 = np.array(points2[point2_keys[frame2_idx%100]])\n",
    "\n",
    "\n",
    "translation1 = np.array(pose[pose_keys[frame1_idx+offset]]['translation'])\n",
    "translation2 = np.array(pose[pose_keys[frame2_idx+offset]]['translation'])\n",
    "rotation1 = pose[pose_keys[frame1_idx+offset]]['rotation']\n",
    "rotation2 = pose[pose_keys[frame2_idx+offset]]['rotation']"
   ]
  },
  {
   "cell_type": "code",
   "execution_count": 81,
   "metadata": {},
   "outputs": [],
   "source": [
    "points1_reg = transformPointCloud(point1, np.array(translation1), np.array(rotation1))\n",
    "points2_reg = transformPointCloud(point2, np.array(translation2), np.array(rotation2))"
   ]
  },
  {
   "cell_type": "code",
   "execution_count": 82,
   "metadata": {},
   "outputs": [],
   "source": [
    "quickVizReg(points1_reg, points2_reg)"
   ]
  },
  {
   "cell_type": "code",
   "execution_count": 87,
   "metadata": {},
   "outputs": [],
   "source": [
    "path = r'testing.json'\n",
    "with open(path,'r') as file:\n",
    "    temp = json.load(file)"
   ]
  },
  {
   "cell_type": "code",
   "execution_count": 94,
   "metadata": {},
   "outputs": [],
   "source": [
    "k = list(temp.keys())\n",
    "a = temp[k[5]]\n",
    "b = temp[k[400]]"
   ]
  },
  {
   "cell_type": "code",
   "execution_count": 95,
   "metadata": {},
   "outputs": [],
   "source": [
    "quickVizReg(a,b)"
   ]
  }
 ],
 "metadata": {
  "kernelspec": {
   "display_name": "lidar_nerf",
   "language": "python",
   "name": "python3"
  },
  "language_info": {
   "codemirror_mode": {
    "name": "ipython",
    "version": 3
   },
   "file_extension": ".py",
   "mimetype": "text/x-python",
   "name": "python",
   "nbconvert_exporter": "python",
   "pygments_lexer": "ipython3",
   "version": "3.10.14"
  }
 },
 "nbformat": 4,
 "nbformat_minor": 2
}
