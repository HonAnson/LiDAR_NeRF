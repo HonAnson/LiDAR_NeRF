{
 "cells": [
  {
   "cell_type": "code",
   "execution_count": 1,
   "metadata": {},
   "outputs": [
    {
     "name": "stdout",
     "output_type": "stream",
     "text": [
      "Jupyter environment detected. Enabling Open3D WebVisualizer.\n",
      "[Open3D INFO] WebRTC GUI backend enabled.\n",
      "[Open3D INFO] WebRTCWindowSystem: HTTP handshake server disabled.\n"
     ]
    }
   ],
   "source": [
    "import torch\n",
    "import numpy as np\n",
    "import matplotlib.pyplot as plt\n",
    "import json\n",
    "import open3d as o3d\n",
    "import pandas as pd\n",
    "import os\n",
    "import copy\n",
    "from utility import listFiles, quickVizNumpy\n",
    "from scipy.spatial.transform import Rotation as R\n",
    "from numpy import cos, sin, sqrt, arctan2, array\n",
    "import torch.nn as nn\n",
    "from einops import rearrange\n",
    "### fucking around\n",
    "# from pretrain import loadDataFromRegisteredSlam, cart2sph, preProcess\n",
    "from train import getSpacing, getTargetCumulativeTransmittance, getTargetTerminationDistribution\n"
   ]
  },
  {
   "cell_type": "code",
   "execution_count": 62,
   "metadata": {},
   "outputs": [],
   "source": [
    "path = r'/home/ansonhon/anson/thesis/LiDAR_NeRF/datasets/training_cumulative/building.npy'\n",
    "data_cumulative = np.load(path)\n"
   ]
  },
  {
   "cell_type": "code",
   "execution_count": 63,
   "metadata": {},
   "outputs": [],
   "source": [
    "ray_origin = data_cumulative[:,0:3]\n",
    "ray_direction = data_cumulative[:,3:6]\n",
    "ray_distance = data_cumulative[:,6]\n",
    "ray_distance = rearrange(ray_distance, 'a -> a 1')"
   ]
  },
  {
   "cell_type": "code",
   "execution_count": 64,
   "metadata": {},
   "outputs": [],
   "source": [
    "points = ray_direction * ray_distance + ray_origin\n"
   ]
  },
  {
   "cell_type": "code",
   "execution_count": 65,
   "metadata": {},
   "outputs": [],
   "source": [
    "output = np.hstack((ray_origin, ray_direction, points))"
   ]
  },
  {
   "cell_type": "code",
   "execution_count": 67,
   "metadata": {},
   "outputs": [],
   "source": [
    "quickVizNumpy(points[0:3000000,:])"
   ]
  },
  {
   "cell_type": "code",
   "execution_count": 68,
   "metadata": {},
   "outputs": [],
   "source": [
    "np.save('building.npy', output)"
   ]
  }
 ],
 "metadata": {
  "kernelspec": {
   "display_name": "lidar_nerf",
   "language": "python",
   "name": "python3"
  },
  "language_info": {
   "codemirror_mode": {
    "name": "ipython",
    "version": 3
   },
   "file_extension": ".py",
   "mimetype": "text/x-python",
   "name": "python",
   "nbconvert_exporter": "python",
   "pygments_lexer": "ipython3",
   "version": "3.10.14"
  }
 },
 "nbformat": 4,
 "nbformat_minor": 2
}
