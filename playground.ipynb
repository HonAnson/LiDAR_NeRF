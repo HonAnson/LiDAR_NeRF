{
 "cells": [
  {
   "cell_type": "code",
   "execution_count": 1,
   "metadata": {},
   "outputs": [
    {
     "name": "stdout",
     "output_type": "stream",
     "text": [
      "Jupyter environment detected. Enabling Open3D WebVisualizer.\n",
      "[Open3D INFO] WebRTC GUI backend enabled.\n",
      "[Open3D INFO] WebRTCWindowSystem: HTTP handshake server disabled.\n"
     ]
    }
   ],
   "source": [
    "import torch\n",
    "import numpy as np\n",
    "import matplotlib.pyplot as plt\n",
    "# from einops import rearrange, repeat\n",
    "# import rosbags\n",
    "import json\n",
    "import open3d as o3d\n",
    "import pandas as pd\n",
    "import os\n",
    "import copy\n",
    "from utility import listFiles, quickVizNumpy\n",
    "from scipy.spatial.transform import Rotation as R\n",
    "from numpy import cos, sin, sqrt, arctan2, array\n",
    "import torch.nn as nn\n",
    "### fucking around\n",
    "from pretrain import loadDataFromRegisteredSlam, cart2sph, preProcess\n",
    "from train import getSamples, getUpSamples, getSpacing\n",
    "from visualize import visualizeDir\n"
   ]
  },
  {
   "cell_type": "code",
   "execution_count": 2,
   "metadata": {},
   "outputs": [],
   "source": [
    "name = r'building_with_rotation'\n",
    "path = r'datasets/registered/' + name + r'.json'\n",
    "data = loadDataFromRegisteredSlam(path)\n",
    "# training_data = preProcess(data)\n",
    "# np.random.shuffle(training_data)"
   ]
  },
  {
   "cell_type": "code",
   "execution_count": 3,
   "metadata": {},
   "outputs": [],
   "source": [
    "def vizTwoPointClouds(points1, points2):\n",
    "    \"\"\"\n",
    "    Visualize two point clouds with different colors using Open3D.\n",
    "    \n",
    "    Parameters:\n",
    "    - points1 (numpy.ndarray): The first n*3 numpy array of points.\n",
    "    - points2 (numpy.ndarray): The second n*3 numpy array of points.\n",
    "    \"\"\"\n",
    "    \n",
    "    # Convert numpy arrays to Open3D point clouds\n",
    "    pcd1 = o3d.geometry.PointCloud()\n",
    "    pcd1.points = o3d.utility.Vector3dVector(points1)\n",
    "    pcd1.paint_uniform_color([1, 0, 0])  # Paint red\n",
    "    \n",
    "    pcd2 = o3d.geometry.PointCloud()\n",
    "    pcd2.points = o3d.utility.Vector3dVector(points2)\n",
    "    pcd2.paint_uniform_color([0, 0, 1])  # Paint blue\n",
    "    \n",
    "    # Visualize the point clouds\n",
    "    o3d.visualization.draw_geometries([pcd1, pcd2])\n"
   ]
  },
  {
   "cell_type": "code",
   "execution_count": 4,
   "metadata": {},
   "outputs": [
    {
     "name": "stdout",
     "output_type": "stream",
     "text": [
      "\n",
      "Visualizing output saved to local/visualize/v5t0.csv\n"
     ]
    }
   ],
   "source": [
    "model_path = r'local/models/version5_trial0.pth'\n",
    "output_path = r'local/visualize/v5t0.csv'\n",
    "\n",
    "position = array([0,0,0])\n",
    "direction = array([1,0,0])\n",
    "pcd_evel = visualizeDir(model_path, output_path, position, direction)"
   ]
  },
  {
   "cell_type": "code",
   "execution_count": 10,
   "metadata": {},
   "outputs": [
    {
     "ename": "SyntaxError",
     "evalue": "invalid syntax (3327389916.py, line 1)",
     "output_type": "error",
     "traceback": [
      "\u001b[0;36m  Cell \u001b[0;32mIn[10], line 1\u001b[0;36m\u001b[0m\n\u001b[0;31m    data['5']['pose_rotation']  a                                                                                                                                   RTFT5\u001b[0m\n\u001b[0m                                ^\u001b[0m\n\u001b[0;31mSyntaxError\u001b[0m\u001b[0;31m:\u001b[0m invalid syntax\n"
     ]
    }
   ],
   "source": [
    "data['5']['pose_rotation']  a                                                                                                                                   RTFT5"
   ]
  },
  {
   "cell_type": "code",
   "execution_count": 5,
   "metadata": {},
   "outputs": [],
   "source": [
    "pcd_gt = np.array(data['5']['point_cloud'])"
   ]
  },
  {
   "cell_type": "code",
   "execution_count": 13,
   "metadata": {},
   "outputs": [],
   "source": [
    "vizTwoPointClouds(pcd_evel, pcd_gt)"
   ]
  },
  {
   "cell_type": "code",
   "execution_count": 18,
   "metadata": {},
   "outputs": [],
   "source": [
    "test = torch.linspace(0,5,100)\n",
    "\n",
    "\n",
    "def warpd2u(d, focus = torch.tensor(1)):\n",
    "    \"\"\" Map depth between 0 to +inf, to u between 0 to 1\"\"\"\n",
    "    sigmoid = nn.Sigmoid()\n",
    "    offset = sigmoid(-focus)\n",
    "    d_neutral = d - focus\n",
    "    u = (sigmoid(d_neutral) - offset) / (1-offset)\n",
    "    return u\n",
    "\n",
    "\n",
    "output = warpd2u(test)"
   ]
  },
  {
   "cell_type": "code",
   "execution_count": null,
   "metadata": {},
   "outputs": [],
   "source": [
    "y = output.detach().numpy()\n",
    "x = test.detach().numpy()\n",
    "plt.figure(figsize=(10, 6))\n",
    "plt.plot(x, y,  label='Original data')\n",
    "plt.legend()\n",
    "plt.show()"
   ]
  },
  {
   "cell_type": "code",
   "execution_count": 23,
   "metadata": {},
   "outputs": [
    {
     "data": {
      "image/png": "[encoded data removed]",
      "text/plain": [
       "<Figure size 1000x600 with 1 Axes>"
      ]
     },
     "metadata": {},
     "output_type": "display_data"
    }
   ],
   "source": [
    "losses = np.load('v5trial0_losses.npy')\n",
    "\n",
    "plt.figure(figsize=(10, 6))\n",
    "plt.plot(losses,  label='Original data')\n",
    "plt.legend()\n",
    "plt.show()"
   ]
  }
 ],
 "metadata": {
  "kernelspec": {
   "display_name": "lidar_nerf",
   "language": "python",
   "name": "python3"
  },
  "language_info": {
   "codemirror_mode": {
    "name": "ipython",
    "version": 3
   },
   "file_extension": ".py",
   "mimetype": "text/x-python",
   "name": "python",
   "nbconvert_exporter": "python",
   "pygments_lexer": "ipython3",
   "version": "3.10.14"
  }
 },
 "nbformat": 4,
 "nbformat_minor": 2
}
