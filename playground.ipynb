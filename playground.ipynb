{
 "cells": [
  {
   "cell_type": "code",
   "execution_count": 1,
   "metadata": {},
   "outputs": [
    {
     "name": "stdout",
     "output_type": "stream",
     "text": [
      "Jupyter environment detected. Enabling Open3D WebVisualizer.\n",
      "[Open3D INFO] WebRTC GUI backend enabled.\n",
      "[Open3D INFO] WebRTCWindowSystem: HTTP handshake server disabled.\n"
     ]
    }
   ],
   "source": [
    "import torch\n",
    "import numpy as np\n",
    "import matplotlib.pyplot as plt\n",
    "from einops import rearrange\n",
    "import rosbags\n",
    "import json\n",
    "import open3d as o3d\n",
    "import pandas as pd\n",
    "import os\n",
    "import copy\n",
    "from preprocess import listFiles\n",
    "from register import loadData\n",
    "from scipy.spatial.transform import Rotation as R"
   ]
  },
  {
   "cell_type": "code",
   "execution_count": 209,
   "metadata": {},
   "outputs": [],
   "source": [
    "def quat2RotationMatrix(q):\n",
    "    \"\"\"\n",
    "    Convert a quaternion into a rotation matrix.\n",
    "    \n",
    "    Args:\n",
    "    q (numpy.ndarray): A 4-element array representing the quaternion (w, x, y, z)\n",
    "    \n",
    "    Returns:\n",
    "    numpy.ndarray: A 3x3 rotation matrix\n",
    "    \"\"\"\n",
    "    w, x, y, z = q\n",
    "\n",
    "    # Compute the rotation matrix elements\n",
    "    R = np.array([\n",
    "        [1 - 2*y*y - 2*z*z, 2*x*y - 2*z*w, 2*x*z + 2*y*w],\n",
    "        [2*x*y + 2*z*w, 1 - 2*x*x - 2*z*z, 2*y*z - 2*x*w],\n",
    "        [2*x*z - 2*y*w, 2*y*z + 2*x*w, 1 - 2*x*x - 2*y*y]\n",
    "    ])\n",
    "    return R\n",
    "\n",
    "\n",
    "def transformPointCloud(point_cloud, translation, quaternion):\n",
    "    \"\"\"\n",
    "    Apply translation and rotation to a point cloud.\n",
    "    \n",
    "    Args:\n",
    "        point_cloud (np.ndarray): An n x 3 array representing the point cloud.\n",
    "        translation (np.ndarray): A 1 x 3 array representing the translation vector.\n",
    "        quaternion (np.ndarray): A 1 x 4 array representing the quaternion for rotation.\n",
    "    \n",
    "    Returns:\n",
    "        np.ndarray: The transformed point cloud.\n",
    "    \"\"\"\n",
    "    # Validate inputs\n",
    "    assert point_cloud.shape[1] == 3, \"Point cloud must be an n x 3 array.\"\n",
    "    assert translation.shape == (3,), \"Translation must be a 1 x 3 array.\"\n",
    "    assert quaternion.shape == (4,), \"Quaternion must be a 1 x 4 array.\"\n",
    "\n",
    "    R = quat2RotationMatrix(quaternion)\n",
    "    R_t = np.transpose(R)\n",
    "    # R = np.eye(3)\n",
    "    temp = R@(np.transpose(point_cloud))\n",
    "    temp2 = np.transpose(temp) + translation\n",
    "\n",
    "    return temp2\n",
    "\n",
    "\n",
    "def quickVizReg(source, target):\n",
    "    pcd1 = o3d.geometry.PointCloud()\n",
    "    pcd2 = o3d.geometry.PointCloud()\n",
    "    pcd1.points = o3d.utility.Vector3dVector(source)\n",
    "    pcd2.points = o3d.utility.Vector3dVector(target)\n",
    "    pcd1.paint_uniform_color([1, 0, 0])\n",
    "    pcd2.paint_uniform_color([0, 0.651, 0.929])\n",
    "    o3d.visualization.draw_geometries([pcd1,pcd2])\n",
    "\n",
    "def quickVisualize(points):\n",
    "    \"\"\" Visualize pointcloud from numpy array\"\"\"\n",
    "    pcd = o3d.geometry.PointCloud()\n",
    "    pcd.points = o3d.utility.Vector3dVector(points)\n",
    "    o3d.visualization.draw_geometries([pcd])\n",
    "    return"
   ]
  },
  {
   "cell_type": "code",
   "execution_count": 3,
   "metadata": {},
   "outputs": [],
   "source": [
    "path = r'datasets/pose/box_plant2_pose.json'\n",
    "with open(path,'r') as file:\n",
    "    pose = json.load(file)\n",
    "\n",
    "path = r'datasets/json/box_plant2/box_plant2_frame0_100.json'\n",
    "with open(path,'r') as file:\n",
    "    points = json.load(file)\n",
    "    "
   ]
  },
  {
   "cell_type": "code",
   "execution_count": 38,
   "metadata": {},
   "outputs": [],
   "source": [
    "pose_keys = list(pose.keys())\n",
    "point_keys = list(points.keys())"
   ]
  },
  {
   "cell_type": "code",
   "execution_count": 203,
   "metadata": {},
   "outputs": [],
   "source": [
    "frame1_idx = 0\n",
    "frame2_idx = 70\n",
    "\n",
    "points1 = np.array(points[point_keys[frame1_idx]])\n",
    "points2 = np.array(points[point_keys[frame2_idx]])\n",
    "\n",
    "translation1 = np.array(pose[pose_keys[frame1_idx]]['translation'])\n",
    "translation2 = np.array(pose[pose_keys[frame2_idx]]['translation'])\n",
    "rotation1 = pose[pose_keys[frame1_idx]]['rotation']\n",
    "rotation2 = pose[pose_keys[frame2_idx]]['rotation']\n",
    "\n",
    "rotation2 = [0.9430642707686508,\n",
    " -0.034828161526489224,\n",
    " -0.07748553691075596,\n",
    " 0.32157856261562184,\n",
    " ]\n",
    "\n",
    "rotation1 = [0.9997741342501786,\n",
    "    -0.013439967902957725,\n",
    " -0.015594347893096654,\n",
    " 0.0052786419524853976]"
   ]
  },
  {
   "cell_type": "code",
   "execution_count": 210,
   "metadata": {},
   "outputs": [],
   "source": [
    "points1_reg = transformPointCloud(points1, np.array(translation1), np.array(rotation1))\n",
    "points2_reg = transformPointCloud(points2, np.array(translation2), np.array(rotation2))"
   ]
  },
  {
   "cell_type": "code",
   "execution_count": 211,
   "metadata": {},
   "outputs": [],
   "source": [
    "quickVizReg(points1_reg, points2_reg)"
   ]
  },
  {
   "cell_type": "code",
   "execution_count": 46,
   "metadata": {},
   "outputs": [],
   "source": [
    "quickVizReg(points1, points2)"
   ]
  }
 ],
 "metadata": {
  "kernelspec": {
   "display_name": "lidar_nerf",
   "language": "python",
   "name": "python3"
  },
  "language_info": {
   "codemirror_mode": {
    "name": "ipython",
    "version": 3
   },
   "file_extension": ".py",
   "mimetype": "text/x-python",
   "name": "python",
   "nbconvert_exporter": "python",
   "pygments_lexer": "ipython3",
   "version": "3.10.14"
  }
 },
 "nbformat": 4,
 "nbformat_minor": 2
}
