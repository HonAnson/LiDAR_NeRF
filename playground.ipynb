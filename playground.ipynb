{
 "cells": [
  {
   "cell_type": "code",
   "execution_count": null,
   "metadata": {},
   "outputs": [],
   "source": [
    "import torch\n",
    "import numpy as np\n",
    "import matplotlib.pyplot as plt\n",
    "from einops import rearrange\n",
    "import rosbags\n"
   ]
  },
  {
   "cell_type": "code",
   "execution_count": null,
   "metadata": {},
   "outputs": [],
   "source": [
    "path = r'datasets/hand_collected/seq1.bag'\n",
    "bag = rosbags.Bag(path)\n",
    "for topic, msg, t in bag.read_messages(topics=['chatter', 'numbers']):\n",
    "    print(msg)\n",
    "bag.close()\n"
   ]
  },
  {
   "cell_type": "code",
   "execution_count": null,
   "metadata": {},
   "outputs": [],
   "source": [
    "a = \"testiingggg\"\n",
    "b = \"ti\"\n",
    "temp = \"\"\n",
    "for ch in a:\n",
    "    temp += ch\n",
    "    print(temp)\n"
   ]
  },
  {
   "cell_type": "code",
   "execution_count": 43,
   "metadata": {},
   "outputs": [],
   "source": [
    "\n",
    "def function(S, T):\n",
    "    len_s = len(S)\n",
    "    len_t = len(T)\n",
    "\n",
    "    w = int(len_s // len_t) + 1\n",
    "    if w == len_s:\n",
    "        print(\"No\")\n",
    "        return\n",
    "    \n",
    "        for c in range(w):\n",
    "            temp = \"\"\n",
    "\n",
    "            for i in range(len_t):\n",
    "                temp += S[i*w + c]\n",
    "            print(temp)\n",
    "            if temp == T:\n",
    "                print(\"Yes\")\n",
    "                return\n",
    "    print(\"No\")\n",
    "    return"
   ]
  },
  {
   "cell_type": "code",
   "execution_count": null,
   "metadata": {},
   "outputs": [],
   "source": [
    "atcoder\n",
    "toe"
   ]
  },
  {
   "cell_type": "code",
   "execution_count": 52,
   "metadata": {},
   "outputs": [],
   "source": [
    "def function(S, T):\n",
    "    len_s = len(S)\n",
    "    len_t = len(T)\n",
    "    # need: len_T number of characters\n",
    "    # thus, we consider floor(len_s / len_t) < W < ceil(len_s / len_t)\n",
    "    # spilt S into w chunks\n",
    "    w_floor = len_s // len_t\n",
    "    w_ceil = w_floor + 1\n",
    "    for chunk in range(w_floor):\n",
    "        temp = \"\"\n",
    "        for char in range(len_t):\n",
    "            temp += S[chunk + ]\n",
    "\n",
    "\n",
    "    \n",
    "            \n"
   ]
  },
  {
   "cell_type": "code",
   "execution_count": 53,
   "metadata": {},
   "outputs": [
    {
     "name": "stdout",
     "output_type": "stream",
     "text": [
      "Yes\n"
     ]
    }
   ],
   "source": [
    "function(\"pleasewait\", \"eek\")"
   ]
  }
 ],
 "metadata": {
  "kernelspec": {
   "display_name": "lidar_nerf",
   "language": "python",
   "name": "python3"
  },
  "language_info": {
   "codemirror_mode": {
    "name": "ipython",
    "version": 3
   },
   "file_extension": ".py",
   "mimetype": "text/x-python",
   "name": "python",
   "nbconvert_exporter": "python",
   "pygments_lexer": "ipython3",
   "version": "3.10.14"
  }
 },
 "nbformat": 4,
 "nbformat_minor": 2
}
