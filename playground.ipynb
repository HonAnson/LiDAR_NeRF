{
 "cells": [
  {
   "cell_type": "code",
   "execution_count": 2,
   "metadata": {},
   "outputs": [],
   "source": [
    "import torch\n",
    "import numpy as np\n",
    "import matplotlib.pyplot as plt\n",
    "from einops import rearrange"
   ]
  },
  {
   "cell_type": "code",
   "execution_count": 19,
   "metadata": {},
   "outputs": [],
   "source": [
    "# create a list of magnitudes with even spacing from 0 to 1\n",
    "num_bins = 100\n",
    "t = torch.linspace(0,1, num_bins).expand(256, num_bins)  # [batch_size, num_bins]\n",
    "\n",
    "# preterb the spacing\n",
    "mid = (t[:, :-1] + t[:, 1:]) / 2.\n",
    "lower = torch.cat((t[:, :1], mid), -1)\n",
    "upper = torch.cat((mid, t[:, -1:]), -1)\n",
    "u = torch.rand(t.shape)\n",
    "t = lower + (upper - lower) * u  # [batch_size, nb_bins]\n",
    "t = rearrange(t, 'a b -> b a')  # [num_bins, batch_size]  take transpose so that multiplication can broadcast\n",
    "\n",
    "# multiply the magnitude to ground truth distance and add 3 meter\n",
    "t = torch.sqrt(t)\n",
    "t = torch.sqrt(t)\n",
    "t2 = 2 - t\n",
    "t = torch.hstack((t, t2))"
   ]
  },
  {
   "cell_type": "code",
   "execution_count": null,
   "metadata": {},
   "outputs": [],
   "source": [
    "# Move the tensor to CPU if it's not already (necessary if using CUDA tensors)\n",
    "data = t.to('cpu')\n",
    "\n",
    "# Convert the tensor to a numpy array and flatten it\n",
    "data_numpy = data.numpy().flatten()\n",
    "\n",
    "# Plot the histogram\n",
    "plt.hist(data_numpy, bins=[0. , 0.1 ,0.2 ,0.3 ,0.4 ,0.5 ,0.6 ,0.7 ,0.8 ,0.9 ,1.  ,1.1 ,1.2 ,1.3 ,1.4 ,1.5 ,1.6 ,1.7,\n",
    " 1.8 ,1.9], align='left', color='blue', rwidth=0.8)\n",
    "plt.xlabel('Value')\n",
    "plt.ylabel('Frequency')\n",
    "plt.title('Histogram of Values')\n",
    "plt.xticks([0, 1, 2])  # Set x-ticks to correspond to the values in the data\n",
    "plt.show()"
   ]
  }
 ],
 "metadata": {
  "kernelspec": {
   "display_name": "lidar_nerf",
   "language": "python",
   "name": "python3"
  },
  "language_info": {
   "codemirror_mode": {
    "name": "ipython",
    "version": 3
   },
   "file_extension": ".py",
   "mimetype": "text/x-python",
   "name": "python",
   "nbconvert_exporter": "python",
   "pygments_lexer": "ipython3",
   "version": "3.10.14"
  }
 },
 "nbformat": 4,
 "nbformat_minor": 2
}
