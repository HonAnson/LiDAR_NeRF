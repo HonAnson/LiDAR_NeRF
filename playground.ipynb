{
 "cells": [
  {
   "cell_type": "code",
   "execution_count": 6,
   "metadata": {},
   "outputs": [],
   "source": [
    "import torch\n",
    "\n",
    "def positional_encoding(x, L):\n",
    "    out = [x]\n",
    "    for j in range(L):\n",
    "        out.append(torch.sin(2 ** j * x))\n",
    "        out.append(torch.cos(2 ** j * x))\n",
    "    return torch.cat(out, dim=1)"
   ]
  },
  {
   "cell_type": "code",
   "execution_count": 9,
   "metadata": {},
   "outputs": [
    {
     "data": {
      "text/plain": [
       "tensor([[ 1.0000,  0.8415,  0.5403,  0.9093, -0.4161, -0.7568, -0.6536,  0.9894,\n",
       "         -0.1455, -0.2879, -0.9577,  0.5514,  0.8342,  0.9200,  0.3919,  0.7210,\n",
       "         -0.6929],\n",
       "        [ 2.0000,  0.9093, -0.4161, -0.7568, -0.6536,  0.9894, -0.1455, -0.2879,\n",
       "         -0.9577,  0.5514,  0.8342,  0.9200,  0.3919,  0.7210, -0.6929, -0.9992,\n",
       "         -0.0398],\n",
       "        [ 3.0000,  0.1411, -0.9900, -0.2794,  0.9602, -0.5366,  0.8439, -0.9056,\n",
       "          0.4242, -0.7683, -0.6401,  0.9836, -0.1804, -0.3549, -0.9349,  0.6637,\n",
       "          0.7480]])"
      ]
     },
     "execution_count": 9,
     "metadata": {},
     "output_type": "execute_result"
    }
   ],
   "source": [
    "x = torch.tensor([[1.0], [2.0], [3.0]])\n",
    "# x.reshape(-1,3)\n",
    "L = 8\n",
    "positional_encoding(x, L)"
   ]
  },
  {
   "cell_type": "code",
   "execution_count": null,
   "metadata": {},
   "outputs": [],
   "source": []
  }
 ],
 "metadata": {
  "kernelspec": {
   "display_name": "lidar_nerf",
   "language": "python",
   "name": "python3"
  },
  "language_info": {
   "codemirror_mode": {
    "name": "ipython",
    "version": 3
   },
   "file_extension": ".py",
   "mimetype": "text/x-python",
   "name": "python",
   "nbconvert_exporter": "python",
   "pygments_lexer": "ipython3",
   "version": "3.10.14"
  }
 },
 "nbformat": 4,
 "nbformat_minor": 2
}
