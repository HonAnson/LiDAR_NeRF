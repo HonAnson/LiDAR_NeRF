{
 "cells": [
  {
   "cell_type": "code",
   "execution_count": 16,
   "metadata": {},
   "outputs": [],
   "source": [
    "import torch\n",
    "import numpy as np\n",
    "import matplotlib.pyplot as plt\n",
    "# from einops import rearrange, repeat\n",
    "# import rosbags\n",
    "import json\n",
    "import open3d as o3d\n",
    "import pandas as pd\n",
    "import os\n",
    "import copy\n",
    "from utility import listFiles, quickVizNumpy\n",
    "from scipy.spatial.transform import Rotation as R\n",
    "from numpy import cos, sin, sqrt, arctan2, array\n",
    "import torch.nn as nn\n",
    "from einops import rearrange\n",
    "### fucking around\n",
    "# from pretrain import loadDataFromRegisteredSlam, cart2sph, preProcess\n",
    "# from train import getSamples, getUpSamples, getSpacing\n"
   ]
  },
  {
   "cell_type": "code",
   "execution_count": 4,
   "metadata": {},
   "outputs": [
    {
     "name": "stdout",
     "output_type": "stream",
     "text": [
      "Preparing data ... (950/971)"
     ]
    }
   ],
   "source": [
    "name = r'building'\n",
    "path = r'datasets/registered/' + name + r'.json'\n",
    "data = loadDataFromRegisteredSlam(path)\n",
    "training_data = preProcess(data)\n",
    "np.random.shuffle(training_data)"
   ]
  },
  {
   "cell_type": "code",
   "execution_count": 6,
   "metadata": {},
   "outputs": [],
   "source": [
    "sigmoid_ = nn.Sigmoid()\n",
    "t = torch.tensor(np.linspace(-10, 10, 1000))\n",
    "y = sigmoid_(t)\n",
    "local_trans = 1 - y * (1 - y)\n",
    "s = torch.cumprod(local_trans, 0)\n",
    "\n"
   ]
  },
  {
   "cell_type": "code",
   "execution_count": 26,
   "metadata": {},
   "outputs": [
    {
     "name": "stdout",
     "output_type": "stream",
     "text": [
      "Loaded data\n"
     ]
    }
   ],
   "source": [
    "####\n",
    "# Choose data here\n",
    "data_path = r'datasets/training_cumulative/round_plant2.npy'\n",
    "####\n",
    "with open(data_path, 'rb') as file:\n",
    "    training_data_np = np.load(file)\n",
    "print(\"Loaded data\")"
   ]
  },
  {
   "cell_type": "code",
   "execution_count": 33,
   "metadata": {},
   "outputs": [
    {
     "data": {
      "text/plain": [
       "(300, 3)"
      ]
     },
     "execution_count": 33,
     "metadata": {},
     "output_type": "execute_result"
    }
   ],
   "source": [
    "x.shape"
   ]
  },
  {
   "cell_type": "code",
   "execution_count": 35,
   "metadata": {},
   "outputs": [],
   "source": [
    "quickVizNumpy(x)"
   ]
  },
  {
   "cell_type": "code",
   "execution_count": 55,
   "metadata": {},
   "outputs": [],
   "source": [
    "from train import getSamplingPositions, getSpacing\n",
    "\n",
    "t, _ = getSpacing(1, 100)\n",
    "centre = torch.tensor([[0,0,0]])\n",
    "dir = torch.tensor([[0,1,0]])\n",
    "dist = torch.tensor([2])\n",
    "pos = getSamplingPositions(centre, dir, dist, t)\n",
    "pos_np = rearrange(np.array(pos), '1 a b -> a b')"
   ]
  },
  {
   "cell_type": "code",
   "execution_count": 56,
   "metadata": {},
   "outputs": [],
   "source": [
    "quickVizNumpy(pos_np)"
   ]
  }
 ],
 "metadata": {
  "kernelspec": {
   "display_name": "lidar_nerf",
   "language": "python",
   "name": "python3"
  },
  "language_info": {
   "codemirror_mode": {
    "name": "ipython",
    "version": 3
   },
   "file_extension": ".py",
   "mimetype": "text/x-python",
   "name": "python",
   "nbconvert_exporter": "python",
   "pygments_lexer": "ipython3",
   "version": "3.10.14"
  }
 },
 "nbformat": 4,
 "nbformat_minor": 2
}
